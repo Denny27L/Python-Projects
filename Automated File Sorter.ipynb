{
 "cells": [
  {
   "cell_type": "code",
   "execution_count": 44,
   "id": "32e7abab",
   "metadata": {},
   "outputs": [],
   "source": [
    "import os, shutil"
   ]
  },
  {
   "cell_type": "code",
   "execution_count": 45,
   "id": "296e2562",
   "metadata": {},
   "outputs": [],
   "source": [
    "path = r\"D:/Downloads/\""
   ]
  },
  {
   "cell_type": "code",
   "execution_count": 46,
   "id": "8004a0d8",
   "metadata": {},
   "outputs": [],
   "source": [
    "file_name = os.listdir(path)"
   ]
  },
  {
   "cell_type": "code",
   "execution_count": 49,
   "id": "ee1e7b2c",
   "metadata": {},
   "outputs": [],
   "source": [
    "folder_names = ['excel files', 'word files', 'pdf files', 'images', 'zip', 'jupyter files']\n",
    "\n",
    "for loop in range(0,6):\n",
    "    if not os.path.exists(path + folder_names[loop]):\n",
    "        #print(path + folder_names[loop])\n",
    "        os.makedirs(path + folder_names[loop])\n",
    "        \n",
    "for file in file_name:\n",
    "    if \".csv\" in file and not os.path.exists(path + \"excel files/\" + file):\n",
    "        shutil.move(path + file, path + \"excel files/\" + file)\n",
    "    elif \".xlsx\" in file and not os.path.exists(path + \"excel files/\" + file):\n",
    "        shutil.move(path + file, path + \"excel files/\" + file)\n",
    "    elif \".xlsm\" in file and not os.path.exists(path + \"excel files/\" + file):\n",
    "        shutil.move(path + file, path + \"excel files/\" + file)\n",
    "    elif \".doc\" in file and not os.path.exists(path + \"word files/\" + file):\n",
    "        shutil.move(path + file, path + \"word files/\" + file)\n",
    "    elif \".pdf\" in file and not os.path.exists(path + \"pdf files/\" + file):\n",
    "        shutil.move(path + file, path + \"pdf files/\" + file)\n",
    "    elif \".jpg\" in file and not os.path.exists(path + \"images/\" + file):\n",
    "        shutil.move(path + file, path + \"images/\" + file)\n",
    "    elif \".jpeg\" in file and not os.path.exists(path + \"images/\" + file):\n",
    "        shutil.move(path + file, path + \"images/\" + file)\n",
    "    elif \".png\" in file and not os.path.exists(path + \"images/\" + file):\n",
    "        shutil.move(path + file, path + \"images/\" + file)\n",
    "    elif \".zip\" in file and not os.path.exists(path + \"zip/\" + file):\n",
    "        shutil.move(path + file, path + \"zip/\" + file)\n",
    "    elif \".7z\" in file and not os.path.exists(path + \"zip/\" + file):\n",
    "        shutil.move(path + file, path + \"zip/\" + file)\n",
    "    elif \".ipynb\" in file and not os.path.exists(path + \"jupyter files/\" + file):\n",
    "        shutil.move(path + file, path + \"jupyter files/\" + file)"
   ]
  },
  {
   "cell_type": "code",
   "execution_count": 43,
   "id": "8a2d2dd7",
   "metadata": {},
   "outputs": [],
   "source": []
  },
  {
   "cell_type": "code",
   "execution_count": null,
   "id": "b71d790b",
   "metadata": {},
   "outputs": [],
   "source": []
  }
 ],
 "metadata": {
  "kernelspec": {
   "display_name": "Python 3 (ipykernel)",
   "language": "python",
   "name": "python3"
  },
  "language_info": {
   "codemirror_mode": {
    "name": "ipython",
    "version": 3
   },
   "file_extension": ".py",
   "mimetype": "text/x-python",
   "name": "python",
   "nbconvert_exporter": "python",
   "pygments_lexer": "ipython3",
   "version": "3.10.9"
  }
 },
 "nbformat": 4,
 "nbformat_minor": 5
}
