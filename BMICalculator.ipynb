{
 "cells": [
  {
   "cell_type": "code",
   "execution_count": null,
   "id": "d4a42628",
   "metadata": {},
   "outputs": [],
   "source": [
    "Výpočet BMI:"
   ]
  },
  {
   "cell_type": "code",
   "execution_count": 35,
   "id": "3bfc7703",
   "metadata": {},
   "outputs": [
    {
     "name": "stdout",
     "output_type": "stream",
     "text": [
      "Výpočet BMI\n",
      "Zadejte váhu v kg: 50.5\n",
      "Zadejte výšku v cm: 170\n",
      "17.474048442906575\n",
      "Podváha\n"
     ]
    }
   ],
   "source": [
    "print(\"Výpočet BMI\")\n",
    "\n",
    "weight = float(input(\"Zadejte váhu v kg: \"))\n",
    "\n",
    "height = float(input(\"Zadejte výšku v cm: \"))\n",
    "\n",
    "BMI = (weight) / ((height/100) * (height/100))\n",
    "\n",
    "print(BMI)\n",
    "\n",
    "if BMI>0:\n",
    "    if (BMI<18.5):\n",
    "        print(\"Podváha\")\n",
    "    elif (BMI<=25):\n",
    "        print(\"Normální hmotnost\")\n",
    "    elif (BMI<=30):\n",
    "        print(\"Nadváha\")\n",
    "    elif (BMI<=40):\n",
    "        print(\"Obezita\")\n",
    "    else:\n",
    "        print(\"Morbidní Obezita\")\n",
    "else:\n",
    "    print(\"Zadejte správné hodnoty\")"
   ]
  },
  {
   "cell_type": "code",
   "execution_count": null,
   "id": "d500a7b7",
   "metadata": {},
   "outputs": [],
   "source": []
  },
  {
   "cell_type": "code",
   "execution_count": null,
   "id": "2578d346",
   "metadata": {},
   "outputs": [],
   "source": [
    "#BMI = (weight in kilograms) / (height in m x height in m)"
   ]
  },
  {
   "cell_type": "code",
   "execution_count": null,
   "id": "7cae1eaa",
   "metadata": {},
   "outputs": [],
   "source": [
    "Tabulka hodnot BMI\n",
    "Podváha\t< 18,5\n",
    "Normální hmotnost\t18,5–25,0\n",
    "Nadváha\t25,1–30,0\n",
    "Obezita\t30,1–40,0\n",
    "Morbidní obezita\t> 40"
   ]
  },
  {
   "cell_type": "code",
   "execution_count": null,
   "id": "f3278f63",
   "metadata": {},
   "outputs": [],
   "source": []
  },
  {
   "cell_type": "code",
   "execution_count": null,
   "id": "8cd6166b",
   "metadata": {},
   "outputs": [],
   "source": []
  },
  {
   "cell_type": "code",
   "execution_count": null,
   "id": "37ac6844",
   "metadata": {},
   "outputs": [],
   "source": []
  },
  {
   "cell_type": "code",
   "execution_count": null,
   "id": "c200c239",
   "metadata": {},
   "outputs": [],
   "source": []
  }
 ],
 "metadata": {
  "kernelspec": {
   "display_name": "Python 3 (ipykernel)",
   "language": "python",
   "name": "python3"
  },
  "language_info": {
   "codemirror_mode": {
    "name": "ipython",
    "version": 3
   },
   "file_extension": ".py",
   "mimetype": "text/x-python",
   "name": "python",
   "nbconvert_exporter": "python",
   "pygments_lexer": "ipython3",
   "version": "3.10.9"
  }
 },
 "nbformat": 4,
 "nbformat_minor": 5
}
